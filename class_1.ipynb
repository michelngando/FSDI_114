{
 "cells": [
  {
   "cell_type": "markdown",
   "id": "1bdc6869",
   "metadata": {},
   "source": [
    "# FSDI 114 - Class 1: Jupyter Introduction and Problem Solving"
   ]
  },
  {
   "cell_type": "code",
   "execution_count": 17,
   "id": "8d32b598",
   "metadata": {},
   "outputs": [
    {
     "name": "stdout",
     "output_type": "stream",
     "text": [
      "H\n",
      "e\n",
      "l\n",
      "l\n",
      "o\n",
      ",\n",
      " \n",
      "w\n",
      "o\n",
      "r\n",
      "l\n",
      "d\n"
     ]
    }
   ],
   "source": [
    "for letter in \"Hello, world\":\n",
    "    print(letter)"
   ]
  },
  {
   "cell_type": "markdown",
   "id": "253c1c60",
   "metadata": {},
   "source": [
    "# Problem 1\n",
    "\n",
    "### Find the total numbers from a collection that divided by 2, the module is 0\n",
    "\n",
    "```\n",
    "Examples:\n",
    "1. [3,4,10,15,999,2] Then the output should be: total=3\n",
    "2. Given [2,4,6,10,3,7] Then the output should be: total=4\n",
    "```\n",
    "\n",
    "### Criteria\n",
    "1. Create a function that receives a collection and returns an integer with the total\n",
    "\n",
    "### Hint\n",
    "- `%` is the mathematic operand to get the module from a division. For 2 % 2 = 0\n",
    "\n",
    "The collection is numbers = [3,5,27,20,6,3.5,60]"
   ]
  },
  {
   "cell_type": "code",
   "execution_count": 1,
   "id": "06c1430e",
   "metadata": {},
   "outputs": [
    {
     "name": "stdout",
     "output_type": "stream",
     "text": [
      "3\n"
     ]
    }
   ],
   "source": [
    "def even_numbers():\n",
    "    my_list = []\n",
    "    for i in [3, 5, 27, 20, 6, 3.5, 60]:\n",
    "        #print(i) # prints all the elements in the list\n",
    "        if i % 2 == 0: # divides each element/value by 2, and compares the remainder/module to 0\n",
    "            my_list.append(i) #appends the value that satisfies the requirement (module == 0) to my_list\n",
    "    return len(my_list) #returns the length/number of elements within the list that contains the result\n",
    "    \n",
    "print(even_numbers()) #prints the total number of elements\n",
    "            \n",
    "        \n",
    "\n",
    "\n",
    "\n"
   ]
  }
 ],
 "metadata": {
  "kernelspec": {
   "display_name": "venv",
   "language": "python",
   "name": "python3"
  },
  "language_info": {
   "codemirror_mode": {
    "name": "ipython",
    "version": 3
   },
   "file_extension": ".py",
   "mimetype": "text/x-python",
   "name": "python",
   "nbconvert_exporter": "python",
   "pygments_lexer": "ipython3",
   "version": "3.12.3"
  }
 },
 "nbformat": 4,
 "nbformat_minor": 5
}
