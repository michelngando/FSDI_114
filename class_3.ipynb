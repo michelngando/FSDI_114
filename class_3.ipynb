{
 "cells": [
  {
   "cell_type": "markdown",
   "id": "03e285d2",
   "metadata": {},
   "source": [
    "Class 3 -Stacks and Queues\n",
    "\n",
    "## Stack\n",
    "A stack is an ordered collection of elements where items are added and removed from one end, commonly referred to as the \"top.\"\n",
    "The ordering principle is referred to as LIFO (Last IN, First Out)\n",
    "\n",
    "## Queue\n",
    "A queue is an ordered collection of elements where items are added and removed from opposite ends, commonly referred to as the \"front\" and \"back' or \"rear\" of the queue. The ordering principle is referred to as FIFO (First In, First Out) or \"first come, first served.\""
   ]
  }
 ],
 "metadata": {
  "language_info": {
   "name": "python"
  }
 },
 "nbformat": 4,
 "nbformat_minor": 5
}
