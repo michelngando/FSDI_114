{
 "cells": [
  {
   "cell_type": "markdown",
   "id": "03e285d2",
   "metadata": {},
   "source": [
    "Class 3 -Stacks and Queues\n",
    "\n",
    "## Stack\n",
    "A stack is an ordered collection of elements where items are added and removed from one end, commonly referred to as the \"top.\"\n",
    "The ordering principle is referred to as LIFO (Last IN, First Out)\n",
    "\n",
    "## Queue\n",
    "A queue is an ordered collection of elements where items are added and removed from opposite ends, commonly referred to as the \"front\" and \"back' or \"rear\" of the queue. The ordering principle is referred to as FIFO (First In, First Out) or \"first come, first served.\""
   ]
  },
  {
   "cell_type": "code",
   "execution_count": 13,
   "id": "0e3b484a",
   "metadata": {},
   "outputs": [],
   "source": [
    "# Simplified version of a stack (relying on built-in functions)\n",
    "\n",
    "class Stack:\n",
    "    def __init__(self):\n",
    "        self.items = []\n",
    "\n",
    "    def push(self,elements):\n",
    "        self.items.append(elements)\n",
    "\n",
    "    def pop(self):\n",
    "        return self.items.pop()\n",
    "\n",
    "    def size(self):\n",
    "        return len(self.items)\n",
    "\n",
    "    def peek(self):\n",
    "        return self.items[len(self.items)-1]\n",
    "\n",
    "    def is_empty(self):\n",
    "        return self.items == []"
   ]
  },
  {
   "cell_type": "code",
   "execution_count": 14,
   "id": "a4d02a3a",
   "metadata": {},
   "outputs": [
    {
     "name": "stdout",
     "output_type": "stream",
     "text": [
      "[10, 20, 23, 19, 40]\n",
      "40\n",
      "19\n",
      "23\n",
      "False\n",
      "2\n",
      "20\n"
     ]
    }
   ],
   "source": [
    "stack = Stack()\n",
    "stack.push(10)\n",
    "stack.push(20)\n",
    "stack.push(23)\n",
    "stack.push(19)\n",
    "stack.push(40)\n",
    "\n",
    "print(stack.items)\n",
    "\n",
    "print(stack.pop())\n",
    "print(stack.pop())\n",
    "print(stack.pop())\n",
    "\n",
    "print(stack.is_empty())\n",
    "\n",
    "print(stack.size())\n",
    "\n",
    "print(stack.peek())"
   ]
  },
  {
   "cell_type": "code",
   "execution_count": 20,
   "id": "191b461b",
   "metadata": {},
   "outputs": [
    {
     "data": {
      "text/plain": [
       "'ygolonhcet noitamrofni'"
      ]
     },
     "execution_count": 20,
     "metadata": {},
     "output_type": "execute_result"
    }
   ],
   "source": [
    "def invert_word(word):\n",
    "    stack = Stack()\n",
    "    out = \"\"\n",
    "    for letter in word:\n",
    "        stack.push(letter)\n",
    "\n",
    "    while not stack.is_empty():\n",
    "        out += stack.pop()\n",
    "\n",
    "    return out\n",
    "\n",
    "invert_word(\"information technology\")\n",
    "    \n"
   ]
  }
 ],
 "metadata": {
  "kernelspec": {
   "display_name": "Python 3 (ipykernel)",
   "language": "python",
   "name": "python3"
  },
  "language_info": {
   "codemirror_mode": {
    "name": "ipython",
    "version": 3
   },
   "file_extension": ".py",
   "mimetype": "text/x-python",
   "name": "python",
   "nbconvert_exporter": "python",
   "pygments_lexer": "ipython3",
   "version": "3.12.3"
  }
 },
 "nbformat": 4,
 "nbformat_minor": 5
}
