{
 "cells": [
  {
   "cell_type": "code",
   "execution_count": 5,
   "id": "76b2d9e1",
   "metadata": {},
   "outputs": [
    {
     "data": {
      "text/plain": [
       "True"
      ]
     },
     "execution_count": 5,
     "metadata": {},
     "output_type": "execute_result"
    }
   ],
   "source": [
    "def check_anagram(w1,w2):\n",
    "    w1 = w1.lower().replace(\" \",'')\n",
    "    w2 = w2.lower().replace(\" \",'')\n",
    "    word = {}\n",
    "    word2 = {}\n",
    "    if len(w1) == len(w2):\n",
    "        for letter in w1:\n",
    "            if word.get(letter):\n",
    "                word[letter]+=1\n",
    "            else:\n",
    "                word[letter] = 1\n",
    "\n",
    "        for letter in w2:\n",
    "            if word2.get(letter):\n",
    "                word2[letter]+=1\n",
    "            else:\n",
    "                word2[letter] = 1\n",
    "        return word == word2\n",
    "    else:\n",
    "        return False\n",
    "    \n",
    "check_anagram(\"Tom Marvolo Riddle\", \"I am Lord Voldemort\")\n",
    "\n",
    "        \n"
   ]
  }
 ],
 "metadata": {
  "kernelspec": {
   "display_name": "Python 3 (ipykernel)",
   "language": "python",
   "name": "python3"
  },
  "language_info": {
   "codemirror_mode": {
    "name": "ipython",
    "version": 3
   },
   "file_extension": ".py",
   "mimetype": "text/x-python",
   "name": "python",
   "nbconvert_exporter": "python",
   "pygments_lexer": "ipython3",
   "version": "3.12.3"
  }
 },
 "nbformat": 4,
 "nbformat_minor": 5
}
